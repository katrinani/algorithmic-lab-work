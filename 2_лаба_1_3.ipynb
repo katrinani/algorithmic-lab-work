{
  "cells": [
    {
      "cell_type": "markdown",
      "id": "0OmWO7UszFZz",
      "metadata": {
        "id": "0OmWO7UszFZz"
      },
      "source": [
        "# **Практическое занятие №2 (Структуры данных)**"
      ]
    },
    {
      "cell_type": "markdown",
      "id": "l0NxDu3flwH2",
      "metadata": {
        "id": "l0NxDu3flwH2"
      },
      "source": [
        "## 1 часть"
      ]
    },
    {
      "cell_type": "markdown",
      "id": "MwY71YzEjRW0",
      "metadata": {
        "id": "MwY71YzEjRW0"
      },
      "source": [
        "1 Задание:\n",
        "\n",
        "Реализовать Стек с помощью списка. Должны поддерживаться следующие операции работы со стеком: Push(elem), Pop(), Top(), isEmpty(), Print()"
      ]
    },
    {
      "cell_type": "markdown",
      "id": "xRgeihnYji-X",
      "metadata": {
        "id": "xRgeihnYji-X"
      },
      "source": [
        "<b>Операции работы со стеком:</b>\n",
        "<br>\n",
        "Push(elem) - добавление элемента в стек\n",
        "<br>\n",
        "Pop() - удаление элемента из стека\n",
        "<br>\n",
        "Top() - выдает вершину стека\n",
        "<br>\n",
        "isEmpty() - показывает пустой стек или нет\n",
        "<br>\n",
        "Print() - выводит стек"
      ]
    },
    {
      "cell_type": "markdown",
      "id": "LHUvGnEyjnBm",
      "metadata": {
        "id": "LHUvGnEyjnBm"
      },
      "source": [
        "Реализация стека с помощью списка"
      ]
    },
    {
      "cell_type": "code",
      "execution_count": null,
      "id": "tE_oyOvbjikL",
      "metadata": {
        "id": "tE_oyOvbjikL",
        "tags": []
      },
      "outputs": [],
      "source": [
        "class Stack:\n",
        "    def __init__(self):\n",
        "        self.stack = []\n",
        "\n",
        "    def Push(self, elem):\n",
        "        self.stack.append(elem)\n",
        "        return elem\n",
        "\n",
        "    def Pop(self):\n",
        "        if len(self.stack) == 0: #проверка на то, что стек не пуст\n",
        "            return None\n",
        "        removed = self.stack.pop()\n",
        "        return removed\n",
        "\n",
        "    def Top(self):\n",
        "        if not self.stack:\n",
        "            return \"Stack is empty\"\n",
        "        else:\n",
        "            return self.stack[-1] #возвращаем элемент с вершины стека\n",
        "\n",
        "    def isEmpty(self):\n",
        "        return len(self.stack) == 0\n",
        "\n",
        "    def Print(self):\n",
        "        support_list = Stack()  # вспомогательный стек\n",
        "\n",
        "        # Первое перемещение в вспомогательный стек\n",
        "        while not self.isEmpty():\n",
        "            elem = self.Pop()\n",
        "            support_list.Push(elem)\n",
        "\n",
        "        # Второе перемещение для правильного порядка вывода\n",
        "        while not support_list.isEmpty():\n",
        "            elem = support_list.Pop()\n",
        "            print(elem, end=\" \")\n",
        "            self.Push(elem)  # Возвращаем элементы в оригинальный стек\n",
        "        print(\"<- Top\")\n",
        "\n"
      ]
    },
    {
      "cell_type": "markdown",
      "id": "vlx2sv2uj6fS",
      "metadata": {
        "id": "vlx2sv2uj6fS"
      },
      "source": [
        "Тестируем"
      ]
    },
    {
      "cell_type": "code",
      "execution_count": null,
      "id": "TMpIFoUoj5sk",
      "metadata": {
        "colab": {
          "base_uri": "https://localhost:8080/"
        },
        "id": "TMpIFoUoj5sk",
        "outputId": "2f290a02-f954-4c53-d104-795010004830",
        "tags": []
      },
      "outputs": [
        {
          "name": "stdout",
          "output_type": "stream",
          "text": [
            "1 2 3 <- Top\n",
            "3\n",
            "2\n",
            "False\n",
            "1 2 <- Top\n"
          ]
        }
      ],
      "source": [
        "stack = Stack()\n",
        "stack.Push(1)\n",
        "stack.Push(2)\n",
        "stack.Push(3)\n",
        "stack.Print()\n",
        "print(stack.Pop())\n",
        "print(stack.Top())\n",
        "print(stack.isEmpty())\n",
        "stack.Print() #для проверки, что правильно работает"
      ]
    },
    {
      "cell_type": "markdown",
      "id": "xw0EVwiikLHM",
      "metadata": {
        "id": "xw0EVwiikLHM"
      },
      "source": [
        "2 Задание:\n",
        "\n",
        " В файле input.txt записаны числа от 1 до 5 через пробел. Каждому числу соответствует своя операция: 1 - Push(elem), 2 - Pop(), 3 - Top(), 4 - isEmpty(), 5 - Print(). Для операции push после единицы через запятую указывается значение помещаемого элемента (это может быть число либо слово). Результат выполнения каждой операции выводится на экран."
      ]
    },
    {
      "cell_type": "code",
      "execution_count": null,
      "id": "JBPK3BinkWp4",
      "metadata": {
        "colab": {
          "base_uri": "https://localhost:8080/"
        },
        "id": "JBPK3BinkWp4",
        "outputId": "c2d62b40-1cad-4be6-fe2b-62b4d417a080",
        "tags": []
      },
      "outputs": [
        {
          "name": "stdout",
          "output_type": "stream",
          "text": [
            "Операция Top(): Stack is empty\n",
            "Операция isEmpty(): True\n",
            "Операция Push(): 56 <- Top\n",
            "Операция Push(): 56 7 <- Top\n",
            "Операция Push(): 56 7 cat <- Top\n",
            "Операция Pop(): cat\n",
            "Операция Print(): 56 7 <- Top\n",
            "Операция isEmpty(): False\n"
          ]
        }
      ],
      "source": [
        "stack = Stack()\n",
        "\n",
        "with open('input.txt', 'w') as file:\n",
        "    file.write('3 4 1,56 1,7 1,cat 2 5 4')\n",
        "\n",
        "with open('input.txt', 'r') as file:\n",
        "    data = file.read().strip().split()\n",
        "\n",
        "for number in data:\n",
        "    parts = number.split(',')\n",
        "    operation = int(parts[0])\n",
        "\n",
        "    if operation == 1:  # Push\n",
        "        elem = parts[1] if len(parts) > 1 else None\n",
        "        stack.Push(elem)\n",
        "        print('Операция Push():', end=\" \")\n",
        "        stack.Print()\n",
        "    elif operation == 2:  # Pop\n",
        "        print('Операция Pop():', stack.Pop())\n",
        "    elif operation == 3:  # Top\n",
        "        print('Операция Top():', stack.Top())\n",
        "    elif operation == 4:  # isEmpty\n",
        "        print('Операция isEmpty():', stack.isEmpty())\n",
        "    elif operation == 5:  # Print\n",
        "        print('Операция Print():', end=\" \")\n",
        "        stack.Print()"
      ]
    },
    {
      "cell_type": "markdown",
      "id": "w06yWJ_FkbcA",
      "metadata": {
        "id": "w06yWJ_FkbcA"
      },
      "source": [
        "3 Задание:\n",
        "\n",
        " Произвести запуск с замером времени на считывание и выполнение операций стеком. В отчет занести результаты замеров времени для различных наборов операций в файле input.txt. Наборы должны быть различными по размеру и составу операций.\n",
        "1 - Push(elem), 2 - Pop(), 3 - Top(), 4 - isEmpty(), 5 - Print()."
      ]
    },
    {
      "cell_type": "code",
      "execution_count": null,
      "id": "xAn6piZrkbGg",
      "metadata": {
        "id": "xAn6piZrkbGg",
        "tags": []
      },
      "outputs": [],
      "source": [
        "import random\n",
        "def create_operation_sets(size, file):\n",
        "    def create_data():\n",
        "        words = ['cat', 'dog', 'apple', 'flowers']\n",
        "        number = random.randint(-10, 30)\n",
        "\n",
        "        if number > 0:\n",
        "            return str(number)\n",
        "        elif number < 0:\n",
        "            index = abs(number) % len(words)  # это гарантирует, что индекс будет от 0 до 3\n",
        "            return words[index]\n",
        "\n",
        "    with open(file, 'w') as file:\n",
        "        for _ in range(size):\n",
        "            number = random.randint(1, 5)\n",
        "            if number == 1:\n",
        "                file.write(f'1,{create_data()} ')\n",
        "            else:\n",
        "                file.write(f'{number} ')\n",
        "    file.close()"
      ]
    },
    {
      "cell_type": "code",
      "execution_count": null,
      "id": "0YoW6Wgmkg5_",
      "metadata": {
        "id": "0YoW6Wgmkg5_",
        "tags": []
      },
      "outputs": [],
      "source": [
        "#Функция для выполнения операций со стеком\n",
        "\n",
        "def stack_operations(operations):\n",
        "    stack = Stack()\n",
        "    for number in operations:\n",
        "        parts = number.split(',')\n",
        "        operation = int(parts[0])\n",
        "\n",
        "        if operation == '1':\n",
        "            elem = parts[1]\n",
        "            stack.Push(elem)\n",
        "        elif operation == '2':\n",
        "            stack.Pop()\n",
        "        elif operation == '3':\n",
        "            stack.Top()\n",
        "        elif operation == '4':\n",
        "            stack.isEmpty()\n",
        "        elif operation == '5':\n",
        "            stack.Print()"
      ]
    },
    {
      "cell_type": "code",
      "execution_count": null,
      "id": "2miDkjE7kk2p",
      "metadata": {
        "id": "2miDkjE7kk2p",
        "tags": []
      },
      "outputs": [],
      "source": [
        "#функция для посчета времени\n",
        "\n",
        "import time\n",
        "\n",
        "def execution_time(operations):\n",
        "    start_time = time.perf_counter()\n",
        "    stack_operations(operations)\n",
        "    end_time = time.perf_counter()\n",
        "    return (end_time - start_time)*1000000"
      ]
    },
    {
      "cell_type": "code",
      "execution_count": null,
      "id": "4b5bea8a-3a76-4f4e-a292-311336e0d4fa",
      "metadata": {
        "id": "4b5bea8a-3a76-4f4e-a292-311336e0d4fa",
        "tags": []
      },
      "outputs": [],
      "source": [
        "# Считывание наборов операций из файла и замер времени\n",
        "\n",
        "def file_processing(file):\n",
        "    with open(file, 'r') as file:\n",
        "        operations = file.read().split()\n",
        "        time = execution_time(operations)\n",
        "        results.append({'Operation Set': operations, 'Execution Time (microseconds)': time})\n",
        "\n",
        "    return results"
      ]
    },
    {
      "cell_type": "code",
      "execution_count": null,
      "id": "04d6f5cf-542f-4691-b0aa-d37c2bfa85ce",
      "metadata": {
        "colab": {
          "base_uri": "https://localhost:8080/",
          "height": 363
        },
        "id": "04d6f5cf-542f-4691-b0aa-d37c2bfa85ce",
        "outputId": "1876ac11-b328-4394-8840-1c30056a2e99",
        "tags": []
      },
      "outputs": [
        {
          "data": {
            "text/html": [
              "<div>\n",
              "<style scoped>\n",
              "    .dataframe tbody tr th:only-of-type {\n",
              "        vertical-align: middle;\n",
              "    }\n",
              "\n",
              "    .dataframe tbody tr th {\n",
              "        vertical-align: top;\n",
              "    }\n",
              "\n",
              "    .dataframe thead th {\n",
              "        text-align: right;\n",
              "    }\n",
              "</style>\n",
              "<table border=\"1\" class=\"dataframe\">\n",
              "  <thead>\n",
              "    <tr style=\"text-align: right;\">\n",
              "      <th></th>\n",
              "      <th>Operation Set</th>\n",
              "      <th>Execution Time (microseconds)</th>\n",
              "    </tr>\n",
              "  </thead>\n",
              "  <tbody>\n",
              "    <tr>\n",
              "      <th>0</th>\n",
              "      <td>[2, 2]</td>\n",
              "      <td>16.099992</td>\n",
              "    </tr>\n",
              "    <tr>\n",
              "      <th>3</th>\n",
              "      <td>[1,23, 4, 3]</td>\n",
              "      <td>19.000014</td>\n",
              "    </tr>\n",
              "    <tr>\n",
              "      <th>2</th>\n",
              "      <td>[2, 2, 1,17]</td>\n",
              "      <td>19.699990</td>\n",
              "    </tr>\n",
              "    <tr>\n",
              "      <th>5</th>\n",
              "      <td>[4, 1,apple, 3, 4, 1,18, 2, 1,2]</td>\n",
              "      <td>20.499996</td>\n",
              "    </tr>\n",
              "    <tr>\n",
              "      <th>8</th>\n",
              "      <td>[1,apple, 5]</td>\n",
              "      <td>20.799998</td>\n",
              "    </tr>\n",
              "    <tr>\n",
              "      <th>6</th>\n",
              "      <td>[1,19, 3, 2, 4, 4, 3, 2, 1,25, 3]</td>\n",
              "      <td>21.899992</td>\n",
              "    </tr>\n",
              "    <tr>\n",
              "      <th>1</th>\n",
              "      <td>[4, 2, 1,10, 2, 3]</td>\n",
              "      <td>24.399997</td>\n",
              "    </tr>\n",
              "    <tr>\n",
              "      <th>4</th>\n",
              "      <td>[3, 1,14, 5, 4, 2, 5, 5, 4, 1,23, 1,13]</td>\n",
              "      <td>25.300003</td>\n",
              "    </tr>\n",
              "    <tr>\n",
              "      <th>7</th>\n",
              "      <td>[4, 2, 1,5, 2, 5, 3, 5]</td>\n",
              "      <td>27.999995</td>\n",
              "    </tr>\n",
              "    <tr>\n",
              "      <th>9</th>\n",
              "      <td>[3, 1,flowers, 4, 1,4, 4, 1,cat, 4]</td>\n",
              "      <td>31.000003</td>\n",
              "    </tr>\n",
              "  </tbody>\n",
              "</table>\n",
              "</div>"
            ],
            "text/plain": [
              "                             Operation Set  Execution Time (microseconds)\n",
              "0                                   [2, 2]                      16.099992\n",
              "3                             [1,23, 4, 3]                      19.000014\n",
              "2                             [2, 2, 1,17]                      19.699990\n",
              "5         [4, 1,apple, 3, 4, 1,18, 2, 1,2]                      20.499996\n",
              "8                             [1,apple, 5]                      20.799998\n",
              "6        [1,19, 3, 2, 4, 4, 3, 2, 1,25, 3]                      21.899992\n",
              "1                       [4, 2, 1,10, 2, 3]                      24.399997\n",
              "4  [3, 1,14, 5, 4, 2, 5, 5, 4, 1,23, 1,13]                      25.300003\n",
              "7                  [4, 2, 1,5, 2, 5, 3, 5]                      27.999995\n",
              "9      [3, 1,flowers, 4, 1,4, 4, 1,cat, 4]                      31.000003"
            ]
          },
          "execution_count": 13,
          "metadata": {},
          "output_type": "execute_result"
        }
      ],
      "source": [
        "import pandas as pd\n",
        "\n",
        "#данные\n",
        "file = 'input.txt'\n",
        "N = 10  # Количество наборов для генерации\n",
        "results = []\n",
        "\n",
        "# Генерируем 10 наборов операций и обрабатывает их\n",
        "for _ in range(N):\n",
        "    create_operation_sets(random.randint(1, 10), file)\n",
        "    file_processing(file)\n",
        "\n",
        "df = pd.DataFrame(results)\n",
        "df = df.sort_values(by=['Execution Time (microseconds)'], ascending=True, axis=0)\n",
        "\n",
        "df.head(n=10)"
      ]
    },
    {
      "cell_type": "markdown",
      "id": "s39t_XxDmATG",
      "metadata": {
        "id": "s39t_XxDmATG"
      },
      "source": [
        "4 Задание:\n",
        "\n",
        "Реализовать алгоритм вычисления выражения, записанного в постфиксной записи. Постфиксная запись считывается из файла. В выражение входят только числа и знаки операций (+, -, *, :, ^).\n",
        "После реализации алгоритма вычисления постфиксной записи, необходимо произвести расчет оценки сложности алгоритма."
      ]
    },
    {
      "cell_type": "markdown",
      "id": "0DW7hnqYmFfQ",
      "metadata": {
        "id": "0DW7hnqYmFfQ"
      },
      "source": [
        "Алгоритм вычисления выражений в постфиксной\n",
        "записи:\n",
        "1. Заводится стек чисел\n",
        "2. Просматриваем постфиксную запись слева направо\n",
        "  - Если встретилась переменная, то заносим её\n",
        "  в стек\n",
        "  - Если встретилась операция, то извлекаем 2\n",
        "верхних\n",
        "элемента стека,\n",
        "применяем к ним\n",
        "операцию и результат\n",
        "заносим в стек\n",
        "3. После просмотра всей записи в стеке останется\n",
        "одно число"
      ]
    },
    {
      "cell_type": "markdown",
      "id": "GJ4FENrOpWBX",
      "metadata": {
        "id": "GJ4FENrOpWBX"
      },
      "source": [
        "**Вспомогательные функции**"
      ]
    },
    {
      "cell_type": "code",
      "execution_count": null,
      "id": "uXWy6Jidqeix",
      "metadata": {
        "id": "uXWy6Jidqeix"
      },
      "outputs": [],
      "source": [
        "from random import randint\n",
        "\n",
        "# Генерация данных\n",
        "def write_file():\n",
        "  with open(\"input.txt\", 'w') as file:\n",
        "     file.write(f\"{randint(0, 9)}{randint(0, 9)}+{randint(0, 9)}-{randint(0, 9)}*{randint(1, 9)}:{randint(0, 9)}^\")\n",
        "\n",
        "write_file()"
      ]
    },
    {
      "cell_type": "code",
      "execution_count": null,
      "id": "snRKtoCGlzd1",
      "metadata": {
        "id": "snRKtoCGlzd1"
      },
      "outputs": [],
      "source": [
        "# Считывание данных из файла\n",
        "def read_info_in_file(path_to_file: str) -> str:\n",
        "  with open(path_to_file, \"r\") as file:\n",
        "    postfix_expression = file.read()\n",
        "  return postfix_expression\n"
      ]
    },
    {
      "cell_type": "markdown",
      "id": "4s0-3_Vvpfk3",
      "metadata": {
        "id": "4s0-3_Vvpfk3"
      },
      "source": [
        "Создаем реализацию вычисления постфиксного выражения"
      ]
    },
    {
      "cell_type": "code",
      "execution_count": null,
      "id": "2kk-kx3kpkco",
      "metadata": {
        "id": "2kk-kx3kpkco"
      },
      "outputs": [],
      "source": [
        "from string import digits\n",
        "computational_operations = [\"+\", \"-\", \"*\", \":\", \"^\"]\n",
        "\n",
        "def postfix_calculation(postfix_expression: str):\n",
        "  calculation = Stack()  # заводится стек чисел\n",
        "\n",
        "  for element in postfix_expression:\n",
        "    if element in digits: # натуральные числа\n",
        "      calculation.Push(int(element))\n",
        "\n",
        "    elif element in computational_operations:\n",
        "      last_el = calculation.Pop()\n",
        "      first_el = calculation.Pop()\n",
        "\n",
        "      # Вычисление\n",
        "      if element == \"+\":\n",
        "        calculation.Push(first_el + last_el)\n",
        "      elif element == \"-\":\n",
        "        calculation.Push(first_el - last_el)\n",
        "      elif element == \"*\":\n",
        "        calculation.Push(first_el * last_el)\n",
        "      elif element == \":\":\n",
        "        calculation.Push(first_el / last_el)\n",
        "      elif element == \"^\":\n",
        "        calculation.Push(first_el ** last_el)\n",
        "      else:\n",
        "        print(\"Неверная операция!\")\n",
        "\n",
        "    else:\n",
        "      print(\"Что-то пошло не так!\")\n",
        "\n",
        "  return calculation.stack\n"
      ]
    },
    {
      "cell_type": "code",
      "execution_count": null,
      "id": "wwfnOOt2praL",
      "metadata": {
        "colab": {
          "base_uri": "https://localhost:8080/"
        },
        "id": "wwfnOOt2praL",
        "outputId": "a44633dd-1711-4273-d045-0eb35eb88021"
      },
      "outputs": [
        {
          "data": {
            "text/plain": [
              "[2251875390625.0]"
            ]
          },
          "execution_count": 55,
          "metadata": {},
          "output_type": "execute_result"
        }
      ],
      "source": [
        "postfix_calculation(read_info_in_file(\"input.txt\"))"
      ]
    },
    {
      "cell_type": "markdown",
      "id": "jfwHkE5Ypyv0",
      "metadata": {
        "id": "jfwHkE5Ypyv0"
      },
      "source": [
        "**Расчет оценки сложности алгоритма вычисления:**\n",
        "\n",
        "1 - создание стека\n",
        "\n",
        "N - операция перебора с помощью for постфиксной записи длины N\n",
        "\n",
        "2 - операция if-elif-else = O(if) + O(max(elif, else)) = 1 + 1 = 2\n",
        "\n",
        "В общей сумме сложность алгоритма расчета постфиксной записи:\n",
        "\n",
        "1 + N * 2 = **N**"
      ]
    },
    {
      "cell_type": "markdown",
      "id": "B3KXjDpMsfbc",
      "metadata": {
        "id": "B3KXjDpMsfbc"
      },
      "source": [
        "\n",
        "\n",
        "```\n",
        "def postfix_calculation(postfix_expression: str):\n",
        "  calculation = Stack() # Сложность 1\n",
        "  for element in postfix_expression:  # Сложность N\n",
        "    if element in digits:\n",
        "      calculation.push(int(element)) # Сложность 1\n",
        "\n",
        "    elif element in computational_operations: # Сложность 1\n",
        "      last_el = calculation.pop() # Сложность 1\n",
        "      first_el = calculation.pop() # Сложность 1\n",
        "\n",
        "      if element == \"+\":\n",
        "        calculation.push(first_el + last_el) # Сложность 1\n",
        "      elif element == \"-\":\n",
        "        calculation.push(first_el - last_el) # Сложность 1\n",
        "      elif element == \"*\":\n",
        "        calculation.push(first_el * last_el) # Сложность 1\n",
        "      elif element == \":\":\n",
        "        calculation.push(first_el / last_el) # Сложность 1\n",
        "      elif element == \"^\":\n",
        "        calculation.push(first_el ** last_el) # Сложность 1\n",
        "      else:\n",
        "        print(\"Неверная операция!\")\n",
        "\n",
        "    else:\n",
        "      print(\"Что-то пошло не так!\")\n",
        "\n",
        "  return calculation.stack\n",
        "```\n",
        "\n"
      ]
    },
    {
      "cell_type": "markdown",
      "id": "eb467449-2540-45bf-8742-192bbba8b06e",
      "metadata": {
        "id": "eb467449-2540-45bf-8742-192bbba8b06e",
        "tags": []
      },
      "source": [
        "## 2 часть\n",
        "#### Цель задания – познакомиться со структурой данных Очередь."
      ]
    },
    {
      "cell_type": "markdown",
      "id": "1af1b417-f9f3-497d-9ba2-264336a2577a",
      "metadata": {
        "id": "1af1b417-f9f3-497d-9ba2-264336a2577a"
      },
      "source": [
        "1.\tРеализовать Очередь с помощью списка и с помощью стандартного класса Queue. Должны поддерживаться следующие операции работы с очередью: вставка/удаление элемента, проверка на пустоту, печать, вывод первого элемента."
      ]
    },
    {
      "cell_type": "markdown",
      "id": "3c986eb6-1e5d-4204-9b47-4141c40fe923",
      "metadata": {
        "id": "3c986eb6-1e5d-4204-9b47-4141c40fe923",
        "tags": []
      },
      "source": [
        "## Реализация очереди с помощью списка"
      ]
    },
    {
      "cell_type": "code",
      "execution_count": null,
      "id": "45408925-af04-4a11-a2e7-63f746c756ad",
      "metadata": {
        "id": "45408925-af04-4a11-a2e7-63f746c756ad",
        "tags": []
      },
      "outputs": [],
      "source": [
        "\n",
        "class Que:\n",
        "\n",
        "    def __init__(self):\n",
        "        self.body = []\n",
        "\n",
        "    def add(self, el):\n",
        "        #добавляет новый элемент в очередь\n",
        "        self.body.append(el)\n",
        "\n",
        "    def delete(self):\n",
        "        #удаляет первый элемент очереди\n",
        "        if self.body != []:\n",
        "            self.body.pop(0)\n",
        "        else:\n",
        "            print('deleteError: Queue is empty')\n",
        "\n",
        "    def is_empty(self):\n",
        "        #выводит True/False\n",
        "        return self.body == []\n",
        "\n",
        "    def top(self):\n",
        "        #возвращает первый элемент очереди\n",
        "        return self.body[0] if self.body != [] else 'Queue is empty'\n"
      ]
    },
    {
      "cell_type": "markdown",
      "id": "89b43e96-e3d5-436c-81ed-b6d186a48821",
      "metadata": {
        "id": "89b43e96-e3d5-436c-81ed-b6d186a48821"
      },
      "source": [
        "##### Пример использования класса Que"
      ]
    },
    {
      "cell_type": "code",
      "execution_count": null,
      "id": "36b35d6c-62d1-4ebe-9529-871aab1c4577",
      "metadata": {
        "id": "36b35d6c-62d1-4ebe-9529-871aab1c4577",
        "outputId": "43528c23-1844-4544-e789-779954e736d1",
        "tags": []
      },
      "outputs": [
        {
          "name": "stdout",
          "output_type": "stream",
          "text": [
            "Новая очередь: [0, 1, 2]\n",
            "Первый элемент очереди до удаления: 0\n",
            "Первый элемент очереди после удаления: 1\n",
            "Попытка вывести пустую очередь: []\n"
          ]
        }
      ],
      "source": [
        "new_q = Que()\n",
        "\n",
        "for el in range(3):\n",
        "    new_q.add(el)\n",
        "\n",
        "print('Новая очередь:', new_q.body)\n",
        "print('Первый элемент очереди до удаления:', new_q.top())\n",
        "new_q.delete()\n",
        "print('Первый элемент очереди после удаления:', new_q.top())\n",
        "new_q.delete()\n",
        "new_q.delete()\n",
        "print('Попытка вывести пустую очередь:', new_q.body)\n"
      ]
    },
    {
      "cell_type": "markdown",
      "id": "1ffc4a78-128b-4c9f-a8a6-6aebbf48d395",
      "metadata": {
        "id": "1ffc4a78-128b-4c9f-a8a6-6aebbf48d395",
        "tags": []
      },
      "source": [
        "## Реализация очереди с помощью стандартного класса Queue"
      ]
    },
    {
      "cell_type": "markdown",
      "id": "1b483ec6-9ba2-4c89-9340-84dc2a04dd2b",
      "metadata": {
        "id": "1b483ec6-9ba2-4c89-9340-84dc2a04dd2b"
      },
      "source": [
        "В языке Python есть стандартный модуль queue, с помощью которого можно легко организовать такую структуру, как очередь.\n",
        "\n",
        "Модуль содержит ключевой класс Queue и методы:\n",
        "\n",
        "qsize() – возвращает длину очереди.\n",
        "\n",
        "put(item) – эта функция используется для вставки элемента.\n",
        "\n",
        "get() – используется для извлечения элемента.\n",
        "\n",
        "empty() – эта функция предназначена для проверки, пуста ли очередь или нет. Если пуста – она возвращает истину.\n",
        "\n",
        "full() – при условии, если очередь заполнена, возвращает истинное значение; в противном случае -ложное.\n",
        "\n",
        "Источник: https://pythonpip.ru/examples/ochered-python\n",
        "Documentation: https://docs.python.org/3/library/queue.html"
      ]
    },
    {
      "cell_type": "markdown",
      "id": "92524bf2-bb3f-47ff-bc21-e171789123fe",
      "metadata": {
        "id": "92524bf2-bb3f-47ff-bc21-e171789123fe"
      },
      "source": [
        "##### Пример использования модуля queue"
      ]
    },
    {
      "cell_type": "code",
      "execution_count": null,
      "id": "59ca0649-fdce-4381-801e-1a3d451eb669",
      "metadata": {
        "id": "59ca0649-fdce-4381-801e-1a3d451eb669",
        "outputId": "c6250049-3121-42c7-bf3b-023180d0777b",
        "tags": []
      },
      "outputs": [
        {
          "name": "stdout",
          "output_type": "stream",
          "text": [
            "Размер только что созданной очереди: 0\n",
            "Размер изменённой очереди: 3\n",
            "Первый элемент: 1, удалён перед выводом на экран\n"
          ]
        }
      ],
      "source": [
        "from queue import *\n",
        "\n",
        "q = Queue() #создание новой очереди\n",
        "print('Размер только что созданной очереди:', q.qsize())\n",
        "\n",
        "for el in range(1, 4): #добавление элементов\n",
        "    q.put(el)\n",
        "\n",
        "print('Размер изменённой очереди:', q.qsize())\n",
        "print(f'Первый элемент: {q.get()}, удалён перед выводом на экран') #удаление первого элемента\n"
      ]
    },
    {
      "cell_type": "markdown",
      "id": "f81103dc-7aaa-4d51-9903-73392ca35099",
      "metadata": {
        "id": "f81103dc-7aaa-4d51-9903-73392ca35099",
        "tags": []
      },
      "source": [
        "## Проведение тестов\n",
        "\n",
        "#### Указания\n",
        "\n",
        "2.\t В файле input.txt записаны числа от 1 до 5 через пробел. Каждому числу соответствует своя операция: 1 - вставка, 2 - удаление, 3 – просмотр начала очереди, 4 – проверка на пустоту, 5 - печать. Для операции добавления в очередь после единицы через запятую указывается значение помещаемого элемента (это может быть число либо слово). Результат выполнения каждой операции выводится на экран.\n",
        "\n",
        "Пример: 3 4 1,56 1,7 1,cat 2 5 4\n",
        "\n",
        "3.\t Произвести запуск с замером времени на считывание и выполнение операций очередью обоих реализация. В отчет занести результаты замеров времени для различных наборов операций в файле input.txt. Наборы операций должны быть следующими: 1) различными по длине, 2) одинаковыми по длине, но различными по составу операций (в этом случае вам необходимо добиться максимального расхождения по времени).\n"
      ]
    },
    {
      "cell_type": "markdown",
      "id": "f22a4d4c-60eb-4aed-bc71-d208968444ad",
      "metadata": {
        "id": "f22a4d4c-60eb-4aed-bc71-d208968444ad"
      },
      "source": [
        "### импорты"
      ]
    },
    {
      "cell_type": "code",
      "execution_count": null,
      "id": "524f1349-664a-428e-a47f-decc4b8b2d7e",
      "metadata": {
        "id": "524f1349-664a-428e-a47f-decc4b8b2d7e",
        "tags": []
      },
      "outputs": [],
      "source": [
        "from random import randint\n",
        "import pandas as pd\n",
        "import time"
      ]
    },
    {
      "cell_type": "markdown",
      "id": "6e503b48-59a4-4159-9647-19755eba6f1d",
      "metadata": {
        "id": "6e503b48-59a4-4159-9647-19755eba6f1d",
        "tags": []
      },
      "source": [
        "### Функции"
      ]
    },
    {
      "cell_type": "code",
      "execution_count": null,
      "id": "d1f62df0-b6f8-4ae0-8ef6-fefc689298f7",
      "metadata": {
        "id": "d1f62df0-b6f8-4ae0-8ef6-fefc689298f7"
      },
      "outputs": [],
      "source": [
        "\n",
        "#функция для замера времени\n",
        "def count_time(func, *args, **kwargs):\n",
        "    \"\"\"\n",
        "    func - исследуемая функция\n",
        "    *args, **kwargs - параметры, передаваемые в функцию\n",
        "    unit_of_measure - единицы измерения времени (по дефолту стоят микросекунды):\n",
        "        s - секунда\n",
        "        ms - миллисекунда\n",
        "        us - микросекунда\n",
        "    \"\"\"\n",
        "    try:\n",
        "        unit_of_measure = kwargs['unit_of_measure']\n",
        "        del kwargs['unit_of_measure']\n",
        "    except KeyError:\n",
        "        unit_of_measure = 'us'\n",
        "\n",
        "    time_start = time.perf_counter()\n",
        "    res = func(*args, **kwargs)\n",
        "    time_finish = time.perf_counter()\n",
        "\n",
        "    time_s = (time_finish - time_start)\n",
        "\n",
        "    if unit_of_measure == 's': return int(time_s)\n",
        "    elif unit_of_measure == 'ms': return int(time_s*1000)\n",
        "    else: return int(time_s*1000000)\n",
        "\n",
        "\n",
        "#вспомогательная функция\n",
        "def rand_str():\n",
        "    words = ['cat', 'horse', 'dog', 'frog', 'rabbit']\n",
        "    ind = randint(-5, 15)\n",
        "\n",
        "    if ind > 0:\n",
        "        return str(ind)\n",
        "    elif ind < 0:\n",
        "        return words[ind]\n",
        "    else:\n",
        "        return '$%&*'\n",
        "\n",
        "\n",
        "#запись команд в файл\n",
        "def write_file(file_name='input.txt', comm_amnt=10):\n",
        "\n",
        "    file = open(file_name, 'w')\n",
        "\n",
        "    for i in range(comm_amnt):\n",
        "        ind = randint(-2, 5)\n",
        "\n",
        "        if ind < 2:\n",
        "            file.write(f'1,{rand_str()} ')\n",
        "        else:\n",
        "            file.write(f'{ind} ')\n",
        "\n",
        "    file.close()\n",
        "\n",
        "\n",
        "#чтение команд из файла\n",
        "def file_to_list(file_name='input.txt'):\n",
        "    file = open(file_name)\n",
        "    line = file.readline()\n",
        "    lst = line.split()\n",
        "\n",
        "    for i in range(len(lst)):\n",
        "        if lst[i] not in '2345':\n",
        "            lst[i] = lst[i].split(',')\n",
        "\n",
        "    return lst\n",
        "\n",
        "\"\"\"1 - вставка, 2 - удаление, 3 – просмотр начала очереди, 4 – проверка на пустоту, 5 - печать\"\"\"\n",
        "\n",
        "#обработка команд с помощью реализации через список\n",
        "def do_comm_list(que, comms):\n",
        "\n",
        "    for com in comms:\n",
        "        if com == '2': que.delete()\n",
        "        elif com == '3': que.top()\n",
        "        elif com == '4': que.is_empty()\n",
        "        elif com == '5': que.body\n",
        "        else: que.add(com[1])\n",
        "\n",
        "    return que\n",
        "\n",
        "\n",
        "#вспомогательная функция\n",
        "def show_body(que):\n",
        "\n",
        "    q_body = []\n",
        "\n",
        "    while not que.empty():\n",
        "        q_body.append(que.get())\n",
        "\n",
        "    for el in q_body:\n",
        "        que.put(el)\n",
        "\n",
        "    return q_body\n",
        "\n",
        "\n",
        "#обработка команд с помощью стандартного класса\n",
        "def do_comm_class(que, comms):\n",
        "\n",
        "    for com in comms:\n",
        "        if com == '2' and que.empty() == False: que.get()\n",
        "\n",
        "        elif com == '3' and que.empty() == False:\n",
        "            el = que.get()\n",
        "            que.put(el)\n",
        "\n",
        "        elif com == '4': que.empty()\n",
        "        elif com == '5': show_body(que)\n",
        "        elif com[0] == '1': que.put(com[1])\n",
        "        else: pass\n",
        "\n"
      ]
    },
    {
      "cell_type": "markdown",
      "id": "f4bd5949-47b8-4b97-ab1d-bb7df22fe007",
      "metadata": {
        "id": "f4bd5949-47b8-4b97-ab1d-bb7df22fe007",
        "tags": []
      },
      "source": [
        "### Замеры времени для различных по длине, но одинаковых по составу наборов операций"
      ]
    },
    {
      "cell_type": "code",
      "execution_count": null,
      "id": "4c3e29df-a8c7-4b9b-ba5e-e2e532f0ebda",
      "metadata": {
        "id": "4c3e29df-a8c7-4b9b-ba5e-e2e532f0ebda",
        "outputId": "8069c8d5-1ae2-4fe7-a085-f4304a5ce527",
        "tags": []
      },
      "outputs": [
        {
          "name": "stdout",
          "output_type": "stream",
          "text": [
            "deleteError: Queue is empty\n"
          ]
        }
      ],
      "source": [
        "el_amnts = [10, 100, 1000]\n",
        "time_list = []\n",
        "time_class = []\n",
        "\n",
        "for el_amnt in el_amnts:\n",
        "    #заполнение файла тестовыми данными\n",
        "    write_file('input.txt', el_amnt)\n",
        "\n",
        "    #преобразование считанных из файла данных в список\n",
        "    test_data = file_to_list('input.txt')\n",
        "\n",
        "    #замер времени для реализации через список\n",
        "    que_list = Que()\n",
        "    time_list.append(count_time(do_comm_list, que_list, test_data))\n",
        "\n",
        "    #замер времени для реализации через стандартный класс\n",
        "    que_class = Queue()\n",
        "    time_class.append(count_time(do_comm_class, que_class, test_data))\n",
        "\n"
      ]
    },
    {
      "cell_type": "markdown",
      "id": "8c9dcee5-80ec-46df-8705-3b81a4b0bcab",
      "metadata": {
        "id": "8c9dcee5-80ec-46df-8705-3b81a4b0bcab"
      },
      "source": [
        "### Результаты замеров (наборы операций различны по длине)"
      ]
    },
    {
      "cell_type": "code",
      "execution_count": null,
      "id": "585c02a2-20a3-4cbf-86bc-cc90e776e1c3",
      "metadata": {
        "id": "585c02a2-20a3-4cbf-86bc-cc90e776e1c3",
        "outputId": "1ca8fefc-f871-4d8a-e99a-c5398ec1add0"
      },
      "outputs": [
        {
          "data": {
            "text/html": [
              "<div>\n",
              "<style scoped>\n",
              "    .dataframe tbody tr th:only-of-type {\n",
              "        vertical-align: middle;\n",
              "    }\n",
              "\n",
              "    .dataframe tbody tr th {\n",
              "        vertical-align: top;\n",
              "    }\n",
              "\n",
              "    .dataframe thead th {\n",
              "        text-align: right;\n",
              "    }\n",
              "</style>\n",
              "<table border=\"1\" class=\"dataframe\">\n",
              "  <thead>\n",
              "    <tr style=\"text-align: right;\">\n",
              "      <th></th>\n",
              "      <th>elements_amnt</th>\n",
              "      <th>list_realisation</th>\n",
              "      <th>class_realisation</th>\n",
              "    </tr>\n",
              "  </thead>\n",
              "  <tbody>\n",
              "    <tr>\n",
              "      <th>0</th>\n",
              "      <td>10</td>\n",
              "      <td>22</td>\n",
              "      <td>59</td>\n",
              "    </tr>\n",
              "    <tr>\n",
              "      <th>1</th>\n",
              "      <td>100</td>\n",
              "      <td>214</td>\n",
              "      <td>258</td>\n",
              "    </tr>\n",
              "    <tr>\n",
              "      <th>2</th>\n",
              "      <td>1000</td>\n",
              "      <td>432</td>\n",
              "      <td>2134</td>\n",
              "    </tr>\n",
              "  </tbody>\n",
              "</table>\n",
              "</div>"
            ],
            "text/plain": [
              "   elements_amnt  list_realisation  class_realisation\n",
              "0             10                22                 59\n",
              "1            100               214                258\n",
              "2           1000               432               2134"
            ]
          },
          "execution_count": 53,
          "metadata": {},
          "output_type": "execute_result"
        }
      ],
      "source": [
        "time_comparison = pd.DataFrame({'elements_amnt' : el_amnts, 'list_realisation' : time_list, 'class_realisation' : time_class})\n",
        "time_comparison"
      ]
    },
    {
      "cell_type": "markdown",
      "id": "d86a378c-84c8-44db-99fe-ea78a4be058c",
      "metadata": {
        "id": "d86a378c-84c8-44db-99fe-ea78a4be058c",
        "tags": []
      },
      "source": [
        "### Замеры времени для одинаковых по длине, но различных по составу наборов операций"
      ]
    },
    {
      "cell_type": "code",
      "execution_count": null,
      "id": "1d57bb5b-3322-4ce9-bee9-9586950f0723",
      "metadata": {
        "id": "1d57bb5b-3322-4ce9-bee9-9586950f0723"
      },
      "outputs": [],
      "source": [
        "time_list = []\n",
        "time_class = []\n",
        "\n",
        "el_amnt = 5000\n",
        "\n",
        "#замер времени для реализации через список\n",
        "write_file('input.txt', el_amnt)\n",
        "test_data = file_to_list('input.txt')\n",
        "\n",
        "que_list = Que()\n",
        "time_list.append(count_time(do_comm_list, que_list, test_data))\n",
        "\n",
        "\n",
        "#замер времени для реализации через стандартный класс\n",
        "write_file('input.txt', el_amnt)\n",
        "test_data = file_to_list('input.txt')\n",
        "\n",
        "que_class = Queue()\n",
        "time_class.append(count_time(do_comm_class, que_class, test_data))\n"
      ]
    },
    {
      "cell_type": "markdown",
      "id": "b0888f6b-9299-4b8c-9aa6-6fc0e6f610d3",
      "metadata": {
        "id": "b0888f6b-9299-4b8c-9aa6-6fc0e6f610d3"
      },
      "source": [
        "### Результаты замеров (наборы операций одинаковы по длине, но различны по составу)"
      ]
    },
    {
      "cell_type": "code",
      "execution_count": null,
      "id": "20afa43a-ef09-4bb0-85b9-ef7adb0b2efd",
      "metadata": {
        "id": "20afa43a-ef09-4bb0-85b9-ef7adb0b2efd",
        "outputId": "12979a93-bbc4-476a-ecb3-aa134449f485"
      },
      "outputs": [
        {
          "data": {
            "text/html": [
              "<div>\n",
              "<style scoped>\n",
              "    .dataframe tbody tr th:only-of-type {\n",
              "        vertical-align: middle;\n",
              "    }\n",
              "\n",
              "    .dataframe tbody tr th {\n",
              "        vertical-align: top;\n",
              "    }\n",
              "\n",
              "    .dataframe thead th {\n",
              "        text-align: right;\n",
              "    }\n",
              "</style>\n",
              "<table border=\"1\" class=\"dataframe\">\n",
              "  <thead>\n",
              "    <tr style=\"text-align: right;\">\n",
              "      <th></th>\n",
              "      <th>elements_amnt</th>\n",
              "      <th>list_realisation</th>\n",
              "      <th>class_realisation</th>\n",
              "    </tr>\n",
              "  </thead>\n",
              "  <tbody>\n",
              "    <tr>\n",
              "      <th>0</th>\n",
              "      <td>5000</td>\n",
              "      <td>1872</td>\n",
              "      <td>15930</td>\n",
              "    </tr>\n",
              "  </tbody>\n",
              "</table>\n",
              "</div>"
            ],
            "text/plain": [
              "   elements_amnt  list_realisation  class_realisation\n",
              "0           5000              1872              15930"
            ]
          },
          "execution_count": 55,
          "metadata": {},
          "output_type": "execute_result"
        }
      ],
      "source": [
        "time_comparison = pd.DataFrame({'elements_amnt' : el_amnt, 'list_realisation' : time_list, 'class_realisation' : time_class})\n",
        "time_comparison"
      ]
    }
  ],
  "metadata": {
    "colab": {
      "provenance": []
    },
    "kernelspec": {
      "display_name": "Python 3 (ipykernel)",
      "language": "python",
      "name": "python3"
    },
    "language_info": {
      "codemirror_mode": {
        "name": "ipython",
        "version": 3
      },
      "file_extension": ".py",
      "mimetype": "text/x-python",
      "name": "python",
      "nbconvert_exporter": "python",
      "pygments_lexer": "ipython3",
      "version": "3.11.5"
    }
  },
  "nbformat": 4,
  "nbformat_minor": 5
}